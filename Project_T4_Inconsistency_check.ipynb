{
  "nbformat": 4,
  "nbformat_minor": 0,
  "metadata": {
    "colab": {
      "provenance": [],
      "toc_visible": true
    },
    "kernelspec": {
      "name": "python3",
      "display_name": "Python 3"
    },
    "language_info": {
      "name": "python"
    }
  },
  "cells": [
    {
      "cell_type": "markdown",
      "source": [
        "# Rule_inconsistency_check"
      ],
      "metadata": {
        "id": "ZlitPzRdvthS"
      }
    },
    {
      "cell_type": "markdown",
      "source": [
        "### Install rdflib library"
      ],
      "metadata": {
        "id": "-ckjhRXzvzPa"
      }
    },
    {
      "cell_type": "code",
      "execution_count": 4,
      "metadata": {
        "id": "wg8fuuIWvc_B"
      },
      "outputs": [],
      "source": [
        "#!pip install rdflib"
      ]
    },
    {
      "cell_type": "markdown",
      "source": [
        "### Import libraries"
      ],
      "metadata": {
        "id": "GkzDV-EGv3M5"
      }
    },
    {
      "cell_type": "code",
      "source": [
        "from rdflib import *\n",
        "from rdflib import URIRef, Graph, Namespace"
      ],
      "metadata": {
        "id": "jSUgOGd4vplZ"
      },
      "execution_count": 5,
      "outputs": []
    },
    {
      "cell_type": "markdown",
      "source": [
        "### Import T4 project knowledge base"
      ],
      "metadata": {
        "id": "jPiB_UISwDHC"
      }
    },
    {
      "cell_type": "code",
      "source": [
        "filepath = '/content/drive/MyDrive/Colab Notebooks/SPB_PU_Amir/data/Project_knowledge_base_v1.n3'"
      ],
      "metadata": {
        "id": "6Z-B8hyMwERC"
      },
      "execution_count": 6,
      "outputs": []
    },
    {
      "cell_type": "code",
      "source": [
        "f = open(filepath, \"r\")\n",
        "print(f.read())"
      ],
      "metadata": {
        "colab": {
          "base_uri": "https://localhost:8080/"
        },
        "id": "w-hjjAT5wS_S",
        "outputId": "794da50f-5af3-4ce0-f665-ae8555c2d0d6"
      },
      "execution_count": 7,
      "outputs": [
        {
          "output_type": "stream",
          "name": "stdout",
          "text": [
            "@prefix ind:<URN:inds:>.\n",
            "@prefix prop:<URN:prop:>.\n",
            "@prefix classes:<URN:class>.\n",
            "@prefix rdfs:<http://www.w3.org/2000/01/rdf-schema#>.\n",
            "@prefix owl: <http://www.w3.org/2002/07/owl#> .\n",
            "@prefix rdf: <http://www.w3.org/1999/02/22-rdf-syntax-ns#> .\n",
            "\n",
            "\n",
            "ind:process0 rdf:type classes:Process;\n",
            "\t\trdfs:label \"Detecting lung diseases from medical imaging\";\n",
            "\t\trdf:isDefinedBy\t\"T4 project group\";\n",
            "\t\tprop:hasInput ind:kaggledataset;\n",
            "        prop:hasInput ind:messagewithimage;\n",
            "        prop:hasOutput ind:text;\n",
            "        prop:hasKPI\tind:kpi0;\n",
            "        prop:hasKPI\tind:kpi1;\n",
            "        prop:hasKPI\tind:kpi2;\n",
            "        prop:hasKPI\tind:kpi3;\n",
            "        prop:hasResource ind:resource0;\n",
            "        prop:hasResource ind:resource1;\n",
            "        prop:hasResource ind:resource2.\n",
            "\n",
            "ind:process01 prop:SubProcess ind:process0;\n",
            "\t\trdfs:label \"Dataset and input Vectorizing\";\n",
            "        prop:hasInput ind:kaggledataset;\n",
            "        prop:hasInput ind:messagewithimage;\n",
            "        prop:hasResource ind:resource1;\n",
            "        prop:hasResource ind:resource1.\n",
            "\n",
            "ind:process02 prop:SubProcess ind:process0;\n",
            "\t\trdfs:label \"Neural network construction\";\n",
            "        prop:hasInput ind:process01;\n",
            "        prop:hasOutput ind:process03;\n",
            "        prop:hasKPI\tind:kpi0;\n",
            "        prop:hasKPI\tind:kpi1;\n",
            "        prop:hasKPI\tind:kpi2;\n",
            "        prop:hasResource ind:resource2.\n",
            "\n",
            "ind:process03 prop:SubProcess ind:process0;\n",
            "\t\trdfs:label \"Data Recognition\";\n",
            "        prop:hasInput ind:process02;\n",
            "        prop:hasOutput ind:process04;\n",
            "        prop:hasKPI\tind:kpi2;\n",
            "        prop:hasKPI\tind:kpi3;\n",
            "        prop:hasResource ind:resource0;\n",
            "        prop:hasResource ind:resource2.\n",
            "\n",
            "ind:process04 prop:SubProcess ind:process0;\n",
            "\t\trdfs:label \"Result output\";\n",
            "        prop:hasInput ind:process03;\n",
            "        prop:hasOutput ind:text;\n",
            "        prop:hasResource ind:resource0;\n",
            "        prop:hasResource ind:resource1.\n",
            "        \n",
            "\n",
            "ind:kpi0 rdf:type classes:KPI;\n",
            "        rdfs:label \"Design topology\".\n",
            "\n",
            "ind:kpi1 rdf:type classes:KPI;\n",
            "        rdfs:label \"Design syntax\".\n",
            "\n",
            "ind:kpi2 rdf:type classes:KPI;\n",
            "        rdfs:label \"Disease metrics\".\n",
            "\n",
            "ind:kpi3 rdf:type classes:KPI;\n",
            "        rdfs:label \"Accuracy score\".\n",
            "\n",
            "\n",
            "ind:resource0 rdf:type classes:resources;\n",
            "        rdfs:label \"Python libraries\".\n",
            "\n",
            "ind:resource1 rdf:type classes:resources;\n",
            "        rdfs:label \"Telegram bot API\".\n",
            "\n",
            "ind:resource2 rdf:type classes:resources;\n",
            "        rdfs:label \"CNN\".\n",
            "\n",
            "\n",
            "ind:kaggledataset rdf:type classes:inputs;\n",
            "        rdfs:label \"kaggledataset\".\n",
            "\n",
            "ind:messagewithimage rdf:type classes:inputs;\n",
            "        rdfs:label \"messagewithimage\".\n",
            "        \n",
            "ind:text rdf:type classes:output;\n",
            "        rdfs:label \"text\".\n"
          ]
        }
      ]
    },
    {
      "cell_type": "markdown",
      "source": [
        "#### Parsing the knowledge base"
      ],
      "metadata": {
        "id": "Id4QgbyswalB"
      }
    },
    {
      "cell_type": "code",
      "source": [
        "knowledge_base = Graph()"
      ],
      "metadata": {
        "id": "KWhL8PwcwbjZ"
      },
      "execution_count": 8,
      "outputs": []
    },
    {
      "cell_type": "code",
      "source": [
        "results = knowledge_base.parse(filepath, format=\"text/n3\")\n",
        "results"
      ],
      "metadata": {
        "colab": {
          "base_uri": "https://localhost:8080/"
        },
        "id": "j-eU5IdTwfxZ",
        "outputId": "5f748548-495a-43e8-d581-da2773eb90b0"
      },
      "execution_count": 9,
      "outputs": [
        {
          "output_type": "execute_result",
          "data": {
            "text/plain": [
              "<Graph identifier=N48b69129e18e456285eb293f37966b85 (<class 'rdflib.graph.Graph'>)>"
            ]
          },
          "metadata": {},
          "execution_count": 9
        }
      ]
    },
    {
      "cell_type": "code",
      "source": [
        "print(len(results))"
      ],
      "metadata": {
        "colab": {
          "base_uri": "https://localhost:8080/"
        },
        "id": "f4TiGVQMwinZ",
        "outputId": "6387b9e3-6e55-414a-c937-74195eb82b07"
      },
      "execution_count": 10,
      "outputs": [
        {
          "output_type": "stream",
          "name": "stdout",
          "text": [
            "60\n"
          ]
        }
      ]
    },
    {
      "cell_type": "code",
      "source": [
        "print(results.serialize(format=\"text/n3\"))"
      ],
      "metadata": {
        "colab": {
          "base_uri": "https://localhost:8080/"
        },
        "id": "uMWJchhgwlxa",
        "outputId": "1519ffbf-3192-4c8d-efce-1627f3e3e7e1"
      },
      "execution_count": 11,
      "outputs": [
        {
          "output_type": "stream",
          "name": "stdout",
          "text": [
            "@prefix classes: <URN:class> .\n",
            "@prefix ind: <URN:inds:> .\n",
            "@prefix prop: <URN:prop:> .\n",
            "@prefix rdf: <http://www.w3.org/1999/02/22-rdf-syntax-ns#> .\n",
            "@prefix rdfs: <http://www.w3.org/2000/01/rdf-schema#> .\n",
            "\n",
            "ind:process01 rdfs:label \"Dataset and input Vectorizing\" ;\n",
            "    prop:SubProcess ind:process0 ;\n",
            "    prop:hasInput ind:kaggledataset,\n",
            "        ind:messagewithimage ;\n",
            "    prop:hasResource ind:resource1 .\n",
            "\n",
            "ind:process02 rdfs:label \"Neural network construction\" ;\n",
            "    prop:SubProcess ind:process0 ;\n",
            "    prop:hasInput ind:process01 ;\n",
            "    prop:hasKPI ind:kpi0,\n",
            "        ind:kpi1,\n",
            "        ind:kpi2 ;\n",
            "    prop:hasOutput ind:process03 ;\n",
            "    prop:hasResource ind:resource2 .\n",
            "\n",
            "ind:process04 rdfs:label \"Result output\" ;\n",
            "    prop:SubProcess ind:process0 ;\n",
            "    prop:hasInput ind:process03 ;\n",
            "    prop:hasOutput ind:text ;\n",
            "    prop:hasResource ind:resource0,\n",
            "        ind:resource1 .\n",
            "\n",
            "ind:kaggledataset a classes:inputs ;\n",
            "    rdfs:label \"kaggledataset\" .\n",
            "\n",
            "ind:kpi0 a classes:KPI ;\n",
            "    rdfs:label \"Design topology\" .\n",
            "\n",
            "ind:kpi1 a classes:KPI ;\n",
            "    rdfs:label \"Design syntax\" .\n",
            "\n",
            "ind:kpi3 a classes:KPI ;\n",
            "    rdfs:label \"Accuracy score\" .\n",
            "\n",
            "ind:messagewithimage a classes:inputs ;\n",
            "    rdfs:label \"messagewithimage\" .\n",
            "\n",
            "ind:process03 rdfs:label \"Data Recognition\" ;\n",
            "    prop:SubProcess ind:process0 ;\n",
            "    prop:hasInput ind:process02 ;\n",
            "    prop:hasKPI ind:kpi2,\n",
            "        ind:kpi3 ;\n",
            "    prop:hasOutput ind:process04 ;\n",
            "    prop:hasResource ind:resource0,\n",
            "        ind:resource2 .\n",
            "\n",
            "ind:text a classes:output ;\n",
            "    rdfs:label \"text\" .\n",
            "\n",
            "ind:kpi2 a classes:KPI ;\n",
            "    rdfs:label \"Disease metrics\" .\n",
            "\n",
            "ind:resource0 a classes:resources ;\n",
            "    rdfs:label \"Python libraries\" .\n",
            "\n",
            "ind:resource1 a classes:resources ;\n",
            "    rdfs:label \"Telegram bot API\" .\n",
            "\n",
            "ind:resource2 a classes:resources ;\n",
            "    rdfs:label \"CNN\" .\n",
            "\n",
            "ind:process0 a classes:Process ;\n",
            "    rdfs:label \"Detecting lung diseases from medical imaging\" ;\n",
            "    prop:hasInput ind:kaggledataset,\n",
            "        ind:messagewithimage ;\n",
            "    prop:hasKPI ind:kpi0,\n",
            "        ind:kpi1,\n",
            "        ind:kpi2,\n",
            "        ind:kpi3 ;\n",
            "    prop:hasOutput ind:text ;\n",
            "    prop:hasResource ind:resource0,\n",
            "        ind:resource1,\n",
            "        ind:resource2 ;\n",
            "    rdf:isDefinedBy \"T4 project group\" .\n",
            "\n",
            "\n"
          ]
        }
      ]
    },
    {
      "cell_type": "markdown",
      "source": [
        "### Import T4 project rule base"
      ],
      "metadata": {
        "id": "QKsPCB4gw2oL"
      }
    },
    {
      "cell_type": "code",
      "source": [
        "filepath = '/content/drive/MyDrive/Colab Notebooks/SPB_PU_Amir/data/Rules_v2.n3'"
      ],
      "metadata": {
        "id": "pDx4eCScw4Qb"
      },
      "execution_count": 12,
      "outputs": []
    },
    {
      "cell_type": "code",
      "source": [
        "f = open(filepath, \"r\")\n",
        "print(f.read())"
      ],
      "metadata": {
        "colab": {
          "base_uri": "https://localhost:8080/"
        },
        "id": "C4SK1Fsiw_Y8",
        "outputId": "26911c5f-1289-407f-cfaa-9d98b3d5027b"
      },
      "execution_count": 13,
      "outputs": [
        {
          "output_type": "stream",
          "name": "stdout",
          "text": [
            "@prefix ind:<URN:inds:>.\n",
            "@prefix prop:<URN:prop:>.\n",
            "@prefix classes:<URN:classes:>.\n",
            "@prefix rdfs:<http://www.w3.org/2000/01/rdf-schema#>.\n",
            "@prefix owl: <http://www.w3.org/2002/07/owl#> .\n",
            "@prefix rdf: <http://www.w3.org/1999/02/22-rdf-syntax-ns#> .\n",
            "\n",
            "\n",
            "ind:KPI\ta owl:Class;\n",
            "\t\towl:oneof ind:kpi0,ind:kpi1,ind:kpi2,ind:kpi3.\n",
            "\n",
            "ind:resources a owl:Class;\n",
            "\t\towl:oneof ind:resource0,ind:resource1,ind:resource2.\n",
            "\n",
            "\n",
            "ind:KPI a owl:Class;\n",
            "owl:disjointWith ind:resources.\n",
            "\n",
            "ind:resources a owl:Class;\n",
            "owl:disjointWith ind:KPI.\n",
            "\n",
            "\n",
            "ind:hasKPI a owl:ObjectProperty;\n",
            "a owl:IrreflexiveProperty.\n",
            "\n",
            "ind:hasResource a owl:ObjectProperty;\n",
            "a owl:AsymmetricProperty.\n"
          ]
        }
      ]
    },
    {
      "cell_type": "markdown",
      "source": [
        "#### Parsing the rule base"
      ],
      "metadata": {
        "id": "BIMYfNCCxJAr"
      }
    },
    {
      "cell_type": "code",
      "source": [
        "rule_base = Graph()"
      ],
      "metadata": {
        "id": "J5qyXy0WxD1f"
      },
      "execution_count": 14,
      "outputs": []
    },
    {
      "cell_type": "code",
      "source": [
        "results = rule_base.parse(filepath, format=\"text/n3\")\n",
        "results"
      ],
      "metadata": {
        "colab": {
          "base_uri": "https://localhost:8080/"
        },
        "id": "Pr36p5dCxTF_",
        "outputId": "bad2d8c8-2a4d-4680-906f-c38ec3001da2"
      },
      "execution_count": 15,
      "outputs": [
        {
          "output_type": "execute_result",
          "data": {
            "text/plain": [
              "<Graph identifier=Nce5a79ebd8324a1a815acbe60e649ed8 (<class 'rdflib.graph.Graph'>)>"
            ]
          },
          "metadata": {},
          "execution_count": 15
        }
      ]
    },
    {
      "cell_type": "code",
      "source": [
        "print(len(results))"
      ],
      "metadata": {
        "colab": {
          "base_uri": "https://localhost:8080/"
        },
        "id": "OrEVcVATxXd9",
        "outputId": "383e2697-c227-47c1-a685-745117e5926a"
      },
      "execution_count": 16,
      "outputs": [
        {
          "output_type": "stream",
          "name": "stdout",
          "text": [
            "15\n"
          ]
        }
      ]
    },
    {
      "cell_type": "code",
      "source": [
        "print(results.serialize(format=\"text/n3\"))"
      ],
      "metadata": {
        "colab": {
          "base_uri": "https://localhost:8080/"
        },
        "id": "_9-FaBIoxbtY",
        "outputId": "a6cb5638-f314-4ab6-93bf-b3b9b532b4a2"
      },
      "execution_count": 17,
      "outputs": [
        {
          "output_type": "stream",
          "name": "stdout",
          "text": [
            "@prefix ind: <URN:inds:> .\n",
            "@prefix owl: <http://www.w3.org/2002/07/owl#> .\n",
            "\n",
            "ind:hasKPI a owl:IrreflexiveProperty,\n",
            "        owl:ObjectProperty .\n",
            "\n",
            "ind:hasResource a owl:AsymmetricProperty,\n",
            "        owl:ObjectProperty .\n",
            "\n",
            "ind:KPI a owl:Class ;\n",
            "    owl:disjointWith ind:resources ;\n",
            "    owl:oneof ind:kpi0,\n",
            "        ind:kpi1,\n",
            "        ind:kpi2,\n",
            "        ind:kpi3 .\n",
            "\n",
            "ind:resources a owl:Class ;\n",
            "    owl:disjointWith ind:KPI ;\n",
            "    owl:oneof ind:resource0,\n",
            "        ind:resource1,\n",
            "        ind:resource2 .\n",
            "\n",
            "\n"
          ]
        }
      ]
    },
    {
      "cell_type": "markdown",
      "source": [
        "### Check the knowledge base for inconsistency"
      ],
      "metadata": {
        "id": "bUxY2vDhyNCy"
      }
    },
    {
      "cell_type": "markdown",
      "source": [
        "#### **owl**:oneOf"
      ],
      "metadata": {
        "id": "rf51ZVRklGXD"
      }
    },
    {
      "cell_type": "markdown",
      "source": [
        "- Any individual that belongs to the class **KPI** must be either **'kpi0', 'kpi1', 'kpi2', 'kpi3'**, and no other individual can belong to the class **KPI**.\n",
        "- Any individual that belongs to the class **resources** must be either **'resource0', 'resource1', 'resource2'**, and no other individual can belong to the class **'resources'**."
      ],
      "metadata": {
        "id": "ES-0wKPke1Fd"
      }
    },
    {
      "cell_type": "markdown",
      "source": [
        "##### Query to rule base"
      ],
      "metadata": {
        "id": "0f1mAOFT1_s-"
      }
    },
    {
      "cell_type": "code",
      "source": [
        "rule_base_query_1 = rule_base.query(\n",
        "            \"\"\"SELECT DISTINCT ?t4class ?t4values\n",
        "               WHERE {\n",
        "                  ?t4class owl:oneof ?t4values.\n",
        "               }\"\"\")"
      ],
      "metadata": {
        "id": "XN94CEAuxd7q"
      },
      "execution_count": 18,
      "outputs": []
    },
    {
      "cell_type": "code",
      "source": [
        "my_dict_1 = {'KPI':[],\n",
        "           'resources':[]}\n",
        "for row in rule_base_query_1:\n",
        "  t4class = str(row.asdict()['t4class'].toPython().split(\":\")[2])\n",
        "  t4values = str(row.asdict()['t4values'].toPython().split(\":\")[2])\n",
        "  if t4class not in my_dict_1:\n",
        "    my_dict_1[t4class] = t4values\n",
        "  else:\n",
        "    my_dict_1[t4class].append(t4values)"
      ],
      "metadata": {
        "id": "xZjBIsuANLnK"
      },
      "execution_count": 19,
      "outputs": []
    },
    {
      "cell_type": "code",
      "source": [
        "my_dict_1"
      ],
      "metadata": {
        "colab": {
          "base_uri": "https://localhost:8080/"
        },
        "id": "cJIKb8_1Nhny",
        "outputId": "8368203a-61ad-4222-8b59-bf985c3cb755"
      },
      "execution_count": 20,
      "outputs": [
        {
          "output_type": "execute_result",
          "data": {
            "text/plain": [
              "{'KPI': ['kpi0', 'kpi1', 'kpi2', 'kpi3'],\n",
              " 'resources': ['resource0', 'resource1', 'resource2']}"
            ]
          },
          "metadata": {},
          "execution_count": 20
        }
      ]
    },
    {
      "cell_type": "markdown",
      "source": [
        "##### Query to knowledge base"
      ],
      "metadata": {
        "id": "PdcX_vik2DN2"
      }
    },
    {
      "cell_type": "code",
      "source": [
        "knowledge_base_query_1 = knowledge_base.query(\n",
        "\"\"\"\n",
        "SELECT ?subject ?predicate ?object\n",
        "WHERE {\n",
        "  ?subject ?predicate ?object.\n",
        "  FILTER (\n",
        "    ?predicate = prop:hasKPI || ?predicate = prop:hasResource\n",
        "  )\n",
        "}\n",
        "\"\"\")"
      ],
      "metadata": {
        "id": "ierxvpnrGipf"
      },
      "execution_count": 21,
      "outputs": []
    },
    {
      "cell_type": "code",
      "source": [
        "my_dict_2 = {'hasKPI':[],\n",
        "             'hasResource':[]}\n",
        "\n",
        "for row in knowledge_base_query_1:\n",
        "    predicate = str(row.asdict()['predicate'].toPython().split(\":\")[2])\n",
        "    t4_object = str(row.asdict()['object'].toPython().split(\":\")[2])\n",
        "    if predicate not in my_dict_2:\n",
        "      my_dict_2[predicate] = t4_object\n",
        "    else:\n",
        "      my_dict_2[predicate].append(t4_object)"
      ],
      "metadata": {
        "id": "wsVkGdaM2SKd"
      },
      "execution_count": 22,
      "outputs": []
    },
    {
      "cell_type": "code",
      "source": [
        "print(my_dict_2)"
      ],
      "metadata": {
        "colab": {
          "base_uri": "https://localhost:8080/"
        },
        "id": "FdfnlD4ahLaZ",
        "outputId": "6de6f842-be18-4fc3-bb4f-14c0f343834b"
      },
      "execution_count": 50,
      "outputs": [
        {
          "output_type": "stream",
          "name": "stdout",
          "text": [
            "{'hasKPI': ['kpi1', 'kpi3', 'kpi2', 'kpi0', 'kpi2', 'kpi1', 'kpi0', 'kpi3', 'kpi2'], 'hasResource': ['resource0', 'resource1', 'resource1', 'resource2', 'resource2', 'resource0', 'resource0', 'resource1', 'resource2']}\n"
          ]
        }
      ]
    },
    {
      "cell_type": "markdown",
      "source": [
        "##### Check for inconsistency"
      ],
      "metadata": {
        "id": "mF6egjJd7_Tm"
      }
    },
    {
      "cell_type": "code",
      "source": [
        "for key, value in my_dict_2.items():\n",
        "  if key =='hasKPI':\n",
        "    for item in value:\n",
        "      if item in my_dict_1['KPI']:\n",
        "        print(item+' --  in list')\n",
        "      else:\n",
        "        print(\"Inconsistency Found in item  \"+item)\n",
        "  if key =='hasResource':\n",
        "    for item in value:\n",
        "      if item in my_dict_1['resources']:\n",
        "        print(item+' --  in list')\n",
        "      else:\n",
        "        print(\"Inconsistency Found in item  \"+item)"
      ],
      "metadata": {
        "colab": {
          "base_uri": "https://localhost:8080/"
        },
        "id": "c8M0etzN7cwy",
        "outputId": "11faed80-0526-4aeb-f1b0-3b2bff98518d"
      },
      "execution_count": 24,
      "outputs": [
        {
          "output_type": "stream",
          "name": "stdout",
          "text": [
            "kpi1 --  in list\n",
            "kpi3 --  in list\n",
            "kpi2 --  in list\n",
            "kpi0 --  in list\n",
            "kpi2 --  in list\n",
            "kpi1 --  in list\n",
            "kpi0 --  in list\n",
            "kpi3 --  in list\n",
            "kpi2 --  in list\n",
            "resource0 --  in list\n",
            "resource1 --  in list\n",
            "resource1 --  in list\n",
            "resource2 --  in list\n",
            "resource2 --  in list\n",
            "resource0 --  in list\n",
            "resource0 --  in list\n",
            "resource1 --  in list\n",
            "resource2 --  in list\n"
          ]
        }
      ]
    },
    {
      "cell_type": "markdown",
      "source": [
        "#### owl:disjointWith"
      ],
      "metadata": {
        "id": "ej0jNwdQmozh"
      }
    },
    {
      "cell_type": "markdown",
      "source": [
        "Any individual that belongs to the class **KPI** cannot belong to the class **resources** and vice versa."
      ],
      "metadata": {
        "id": "y9k19z-Cf5pc"
      }
    },
    {
      "cell_type": "markdown",
      "source": [
        "##### Query to rule base"
      ],
      "metadata": {
        "id": "YKzIcOXnmxGg"
      }
    },
    {
      "cell_type": "code",
      "source": [
        "rule_base_query_2 = rule_base.query(\n",
        "            \"\"\"SELECT DISTINCT ?t4class ?t4values\n",
        "               WHERE {\n",
        "                  ?t4class owl:disjointWith ?t4values.\n",
        "               }\"\"\")"
      ],
      "metadata": {
        "id": "aD3rjcCgill6"
      },
      "execution_count": 25,
      "outputs": []
    },
    {
      "cell_type": "code",
      "source": [
        "my_dict_3 = {}\n",
        "for row in rule_base_query_2:\n",
        "  t4class = str(row.asdict()['t4class'].toPython().split(\":\")[2])\n",
        "  t4values = str(row.asdict()['t4values'].toPython().split(\":\")[2])\n",
        "  my_dict_3[t4class] = t4values"
      ],
      "metadata": {
        "id": "CY3g3rlSm6gu"
      },
      "execution_count": 26,
      "outputs": []
    },
    {
      "cell_type": "code",
      "source": [
        "my_dict_3"
      ],
      "metadata": {
        "colab": {
          "base_uri": "https://localhost:8080/"
        },
        "id": "IOc137OWnhGz",
        "outputId": "ba25329c-9a7b-42ce-b6f4-164bd99e8a02"
      },
      "execution_count": 27,
      "outputs": [
        {
          "output_type": "execute_result",
          "data": {
            "text/plain": [
              "{'KPI': 'resources', 'resources': 'KPI'}"
            ]
          },
          "metadata": {},
          "execution_count": 27
        }
      ]
    },
    {
      "cell_type": "markdown",
      "source": [
        "##### Query to knowledge base"
      ],
      "metadata": {
        "id": "9wdGU6ednr8a"
      }
    },
    {
      "cell_type": "code",
      "source": [
        "knowledge_base_query_2 = knowledge_base.query(\n",
        "\"\"\"\n",
        "SELECT ?subject ?predicate ?object\n",
        "WHERE {\n",
        "  ?subject rdf:type ?object.\n",
        "  FILTER (\n",
        "    ?object = classes:KPI || ?object = classes:resources\n",
        "  )\n",
        "}\n",
        "\"\"\")"
      ],
      "metadata": {
        "id": "XkEgyDd3niK3"
      },
      "execution_count": 28,
      "outputs": []
    },
    {
      "cell_type": "code",
      "source": [
        "my_dict_4 = {'classKPI':[],\n",
        "              'classresources':[]}\n",
        "for row in knowledge_base_query_2:\n",
        "  t4_subject = str(row.asdict()['subject'].toPython().split(\":\")[2])\n",
        "  t4_object = str(row.asdict()['object'].toPython().split(\":\")[1])\n",
        "  if t4_object not in my_dict_4:\n",
        "      my_dict_4[t4_object] = t4_subject\n",
        "  else:\n",
        "      my_dict_4[t4_object].append(t4_subject)"
      ],
      "metadata": {
        "id": "QpzntTXso2sJ"
      },
      "execution_count": 29,
      "outputs": []
    },
    {
      "cell_type": "code",
      "source": [
        " my_dict_4"
      ],
      "metadata": {
        "colab": {
          "base_uri": "https://localhost:8080/"
        },
        "id": "ZkXXF9hnsxE-",
        "outputId": "52bee182-eda1-44f4-98aa-747bc6f8f3b8"
      },
      "execution_count": 30,
      "outputs": [
        {
          "output_type": "execute_result",
          "data": {
            "text/plain": [
              "{'classKPI': ['kpi0', 'kpi1', 'kpi2', 'kpi3'],\n",
              " 'classresources': ['resource0', 'resource1', 'resource2']}"
            ]
          },
          "metadata": {},
          "execution_count": 30
        }
      ]
    },
    {
      "cell_type": "markdown",
      "source": [
        "##### Check for inconsistency"
      ],
      "metadata": {
        "id": "wrJAMUvRs-oG"
      }
    },
    {
      "cell_type": "code",
      "source": [
        "for key, value in my_dict_4.items():\n",
        "  if key =='classKPI':\n",
        "    for item in value:\n",
        "      if item in my_dict_4['classresources']:\n",
        "        print(\"Inconsistency Found in item  \"+item)\n",
        "      else:\n",
        "        print(item, \"found only in class\", key)\n",
        "  if key =='classresources':\n",
        "    for item in value:\n",
        "      if item in my_dict_4['classKPI']:\n",
        "        print(\"Inconsistency Found in item  \"+item)\n",
        "      else:\n",
        "        print(item, \"found only in class\", key)"
      ],
      "metadata": {
        "colab": {
          "base_uri": "https://localhost:8080/"
        },
        "id": "Hv1fzUAQs-9a",
        "outputId": "fd7b0a17-63ad-4887-df90-99b7685a9a5e"
      },
      "execution_count": 31,
      "outputs": [
        {
          "output_type": "stream",
          "name": "stdout",
          "text": [
            "kpi0 found only in class classKPI\n",
            "kpi1 found only in class classKPI\n",
            "kpi2 found only in class classKPI\n",
            "kpi3 found only in class classKPI\n",
            "resource0 found only in class classresources\n",
            "resource1 found only in class classresources\n",
            "resource2 found only in class classresources\n"
          ]
        }
      ]
    },
    {
      "cell_type": "code",
      "source": [],
      "metadata": {
        "id": "blqIOMLMtrkT"
      },
      "execution_count": 31,
      "outputs": []
    },
    {
      "cell_type": "markdown",
      "source": [
        "#### owl:IrreflexiveProperty"
      ],
      "metadata": {
        "id": "WMODpkwVw3bP"
      }
    },
    {
      "cell_type": "markdown",
      "source": [
        "Any individual that has the property **hasKPI** with another individual cannot have the same property with itself. Any statement using the property **hasKPI** cannot have the same resource as both the subject and the object."
      ],
      "metadata": {
        "id": "cc_BjpFVgLCu"
      }
    },
    {
      "cell_type": "markdown",
      "source": [
        "##### Query to rule base"
      ],
      "metadata": {
        "id": "_F4U7lTVw3bQ"
      }
    },
    {
      "cell_type": "code",
      "source": [
        "rule_base_query_3 = rule_base.query(\n",
        "            \"\"\"SELECT DISTINCT ?t4_subject\n",
        "               WHERE {\n",
        "                  ?t4_subject a owl:IrreflexiveProperty.\n",
        "               }\"\"\")"
      ],
      "metadata": {
        "id": "0HDUA0Y6w3bQ"
      },
      "execution_count": 32,
      "outputs": []
    },
    {
      "cell_type": "code",
      "source": [
        "for row in rule_base_query_3:\n",
        "  print(row)"
      ],
      "metadata": {
        "colab": {
          "base_uri": "https://localhost:8080/"
        },
        "id": "LwzdEeOG2M5o",
        "outputId": "b8556858-154c-4bfd-edf5-94056686b6b1"
      },
      "execution_count": 33,
      "outputs": [
        {
          "output_type": "stream",
          "name": "stdout",
          "text": [
            "(rdflib.term.URIRef('URN:inds:hasKPI'),)\n"
          ]
        }
      ]
    },
    {
      "cell_type": "code",
      "source": [
        "my_list_1 = []\n",
        "for row in rule_base_query_3:\n",
        "  t4_subject = str(row.asdict()['t4_subject'].toPython().split(\":\")[2])\n",
        "  my_list_1.append(t4_subject)"
      ],
      "metadata": {
        "id": "v2d2FCi2w3bR"
      },
      "execution_count": 34,
      "outputs": []
    },
    {
      "cell_type": "code",
      "source": [
        "my_list_1"
      ],
      "metadata": {
        "colab": {
          "base_uri": "https://localhost:8080/"
        },
        "outputId": "8ea65edd-5080-4e6b-b01b-7538cf83168f",
        "id": "hoBAukSrw3bR"
      },
      "execution_count": 35,
      "outputs": [
        {
          "output_type": "execute_result",
          "data": {
            "text/plain": [
              "['hasKPI']"
            ]
          },
          "metadata": {},
          "execution_count": 35
        }
      ]
    },
    {
      "cell_type": "markdown",
      "source": [
        "##### Query to knowledge base"
      ],
      "metadata": {
        "id": "2DIqZN8kw3bR"
      }
    },
    {
      "cell_type": "code",
      "source": [
        "knowledge_base_query_3 = knowledge_base.query(\n",
        "\"\"\"\n",
        "SELECT ?subject ?object\n",
        "WHERE {\n",
        "  ?subject prop:hasKPI ?object.\n",
        "  }\n",
        "\"\"\")"
      ],
      "metadata": {
        "id": "lJgIK2g1w3bR"
      },
      "execution_count": 36,
      "outputs": []
    },
    {
      "cell_type": "code",
      "source": [
        "for row in knowledge_base_query_3:\n",
        "  print(row)"
      ],
      "metadata": {
        "colab": {
          "base_uri": "https://localhost:8080/"
        },
        "id": "zm53kvkm21dR",
        "outputId": "ebe01bb2-60b6-414a-8b84-1b2b81ead622"
      },
      "execution_count": 37,
      "outputs": [
        {
          "output_type": "stream",
          "name": "stdout",
          "text": [
            "(rdflib.term.URIRef('URN:inds:process0'), rdflib.term.URIRef('URN:inds:kpi0'))\n",
            "(rdflib.term.URIRef('URN:inds:process02'), rdflib.term.URIRef('URN:inds:kpi0'))\n",
            "(rdflib.term.URIRef('URN:inds:process0'), rdflib.term.URIRef('URN:inds:kpi1'))\n",
            "(rdflib.term.URIRef('URN:inds:process02'), rdflib.term.URIRef('URN:inds:kpi1'))\n",
            "(rdflib.term.URIRef('URN:inds:process0'), rdflib.term.URIRef('URN:inds:kpi2'))\n",
            "(rdflib.term.URIRef('URN:inds:process02'), rdflib.term.URIRef('URN:inds:kpi2'))\n",
            "(rdflib.term.URIRef('URN:inds:process03'), rdflib.term.URIRef('URN:inds:kpi2'))\n",
            "(rdflib.term.URIRef('URN:inds:process0'), rdflib.term.URIRef('URN:inds:kpi3'))\n",
            "(rdflib.term.URIRef('URN:inds:process03'), rdflib.term.URIRef('URN:inds:kpi3'))\n"
          ]
        }
      ]
    },
    {
      "cell_type": "code",
      "source": [
        "subject_list_1 =[]\n",
        "object_list_1 = []\n",
        "for row in knowledge_base_query_3:\n",
        "  t4_subject = str(row.asdict()['subject'].toPython().split(\":\")[2])\n",
        "  t4_object = str(row.asdict()['object'].toPython().split(\":\")[2])\n",
        "  subject_list_1.append(t4_subject)\n",
        "  object_list_1.append(t4_object)"
      ],
      "metadata": {
        "id": "YOE7crUNw3bS"
      },
      "execution_count": 38,
      "outputs": []
    },
    {
      "cell_type": "code",
      "source": [
        "object_list_1"
      ],
      "metadata": {
        "colab": {
          "base_uri": "https://localhost:8080/"
        },
        "outputId": "5950d25a-91a1-404f-de40-bc8c77bccc41",
        "id": "6mwyBt4Ew3bS"
      },
      "execution_count": 39,
      "outputs": [
        {
          "output_type": "execute_result",
          "data": {
            "text/plain": [
              "['kpi0', 'kpi0', 'kpi1', 'kpi1', 'kpi2', 'kpi2', 'kpi2', 'kpi3', 'kpi3']"
            ]
          },
          "metadata": {},
          "execution_count": 39
        }
      ]
    },
    {
      "cell_type": "markdown",
      "source": [
        "##### Check for inconsistency"
      ],
      "metadata": {
        "id": "5mRAvZo-w3bS"
      }
    },
    {
      "cell_type": "code",
      "source": [
        "for i in range(len(subject_list_1)):\n",
        "  if subject_list_1[i] == object_list_1[i]:\n",
        "    print(\"Inconsistency Found in pair  \",subject_list_1[i],object_list_1[i])\n",
        "  else:\n",
        "    print(subject_list_1[i],' and ', object_list_1[i] ,\"are different\")"
      ],
      "metadata": {
        "colab": {
          "base_uri": "https://localhost:8080/"
        },
        "id": "D_462nZx4uNi",
        "outputId": "4cd1574f-07a1-40e8-c939-abbc65d9c032"
      },
      "execution_count": 51,
      "outputs": [
        {
          "output_type": "stream",
          "name": "stdout",
          "text": [
            "process0  and  kpi0 are different\n",
            "process02  and  kpi0 are different\n",
            "process0  and  kpi1 are different\n",
            "process02  and  kpi1 are different\n",
            "process0  and  kpi2 are different\n",
            "process02  and  kpi2 are different\n",
            "process03  and  kpi2 are different\n",
            "process0  and  kpi3 are different\n",
            "process03  and  kpi3 are different\n"
          ]
        }
      ]
    },
    {
      "cell_type": "markdown",
      "source": [
        "#### owl:AsymmetricProperty"
      ],
      "metadata": {
        "id": "6rlxR6_Q5gwF"
      }
    },
    {
      "cell_type": "markdown",
      "source": [
        " If one individual has **hasResource** property with another individual, then the second individual cannot have the same **hasResource** property with the first individual."
      ],
      "metadata": {
        "id": "nBo0JhBPi1it"
      }
    },
    {
      "cell_type": "markdown",
      "source": [
        "##### Query to rule base"
      ],
      "metadata": {
        "id": "HqaqN38L5gwF"
      }
    },
    {
      "cell_type": "code",
      "source": [
        "rule_base_query_4 = rule_base.query(\n",
        "            \"\"\"SELECT DISTINCT ?t4_subject\n",
        "               WHERE {\n",
        "                  ?t4_subject a owl:AsymmetricProperty.\n",
        "               }\"\"\")"
      ],
      "metadata": {
        "id": "JxFuqsNH5gwG"
      },
      "execution_count": 41,
      "outputs": []
    },
    {
      "cell_type": "code",
      "source": [
        "for row in rule_base_query_4:\n",
        "  print(row)"
      ],
      "metadata": {
        "colab": {
          "base_uri": "https://localhost:8080/"
        },
        "outputId": "030eaa8d-22ac-4f9b-c4a4-65e5a75f6419",
        "id": "WlkdObk25gwG"
      },
      "execution_count": 42,
      "outputs": [
        {
          "output_type": "stream",
          "name": "stdout",
          "text": [
            "(rdflib.term.URIRef('URN:inds:hasResource'),)\n"
          ]
        }
      ]
    },
    {
      "cell_type": "code",
      "source": [
        "my_list_2 = []\n",
        "for row in rule_base_query_4:\n",
        "  t4_subject = str(row.asdict()['t4_subject'].toPython().split(\":\")[2])\n",
        "  my_list_2.append(t4_subject)"
      ],
      "metadata": {
        "id": "DZz-8Gci5gwH"
      },
      "execution_count": 43,
      "outputs": []
    },
    {
      "cell_type": "code",
      "source": [
        "my_list_2"
      ],
      "metadata": {
        "colab": {
          "base_uri": "https://localhost:8080/"
        },
        "outputId": "65e0c028-afbd-490b-b485-ac545517e3b5",
        "id": "mZLVB5vn5gwH"
      },
      "execution_count": 44,
      "outputs": [
        {
          "output_type": "execute_result",
          "data": {
            "text/plain": [
              "['hasResource']"
            ]
          },
          "metadata": {},
          "execution_count": 44
        }
      ]
    },
    {
      "cell_type": "markdown",
      "source": [
        "##### Query to knowledge base"
      ],
      "metadata": {
        "id": "kT3uGoq95gwI"
      }
    },
    {
      "cell_type": "code",
      "source": [
        "knowledge_base_query_4 = knowledge_base.query(\n",
        "\"\"\"\n",
        "SELECT ?subject ?object\n",
        "WHERE {\n",
        "  ?subject prop:hasResource ?object.\n",
        "  }\n",
        "\"\"\")"
      ],
      "metadata": {
        "id": "pgOvs8WG5gwI"
      },
      "execution_count": 45,
      "outputs": []
    },
    {
      "cell_type": "code",
      "source": [
        "for row in knowledge_base_query_4:\n",
        "  print(row)"
      ],
      "metadata": {
        "colab": {
          "base_uri": "https://localhost:8080/"
        },
        "outputId": "703c6cd8-3e91-4038-91e2-502e8b366743",
        "id": "zMUtke045gwI"
      },
      "execution_count": 46,
      "outputs": [
        {
          "output_type": "stream",
          "name": "stdout",
          "text": [
            "(rdflib.term.URIRef('URN:inds:process0'), rdflib.term.URIRef('URN:inds:resource0'))\n",
            "(rdflib.term.URIRef('URN:inds:process03'), rdflib.term.URIRef('URN:inds:resource0'))\n",
            "(rdflib.term.URIRef('URN:inds:process04'), rdflib.term.URIRef('URN:inds:resource0'))\n",
            "(rdflib.term.URIRef('URN:inds:process0'), rdflib.term.URIRef('URN:inds:resource1'))\n",
            "(rdflib.term.URIRef('URN:inds:process01'), rdflib.term.URIRef('URN:inds:resource1'))\n",
            "(rdflib.term.URIRef('URN:inds:process04'), rdflib.term.URIRef('URN:inds:resource1'))\n",
            "(rdflib.term.URIRef('URN:inds:process0'), rdflib.term.URIRef('URN:inds:resource2'))\n",
            "(rdflib.term.URIRef('URN:inds:process02'), rdflib.term.URIRef('URN:inds:resource2'))\n",
            "(rdflib.term.URIRef('URN:inds:process03'), rdflib.term.URIRef('URN:inds:resource2'))\n"
          ]
        }
      ]
    },
    {
      "cell_type": "code",
      "source": [
        "my_list_5 = []\n",
        "for row in knowledge_base_query_4:\n",
        "  t4_subject = str(row.asdict()['subject'].toPython().split(\":\")[2])\n",
        "  t4_object = str(row.asdict()['object'].toPython().split(\":\")[2])\n",
        "  my_list_5.append((t4_subject,t4_object))"
      ],
      "metadata": {
        "id": "3OyG6hBQ5gwJ"
      },
      "execution_count": 47,
      "outputs": []
    },
    {
      "cell_type": "code",
      "source": [
        "my_list_5"
      ],
      "metadata": {
        "colab": {
          "base_uri": "https://localhost:8080/"
        },
        "outputId": "13844eb6-60f8-45ba-dd60-88fd6da247f2",
        "id": "9Lwv_kns5gwJ"
      },
      "execution_count": 48,
      "outputs": [
        {
          "output_type": "execute_result",
          "data": {
            "text/plain": [
              "[('process0', 'resource0'),\n",
              " ('process03', 'resource0'),\n",
              " ('process04', 'resource0'),\n",
              " ('process0', 'resource1'),\n",
              " ('process01', 'resource1'),\n",
              " ('process04', 'resource1'),\n",
              " ('process0', 'resource2'),\n",
              " ('process02', 'resource2'),\n",
              " ('process03', 'resource2')]"
            ]
          },
          "metadata": {},
          "execution_count": 48
        }
      ]
    },
    {
      "cell_type": "markdown",
      "source": [
        "##### Check for inconsistency"
      ],
      "metadata": {
        "id": "kLkS1P2b5gwJ"
      }
    },
    {
      "cell_type": "code",
      "source": [
        "for i in my_list_5:\n",
        "  tutuple = (i[1],i[0])\n",
        "  if tutuple in my_list_5:\n",
        "    print(\"Inconsistency Found in pair  \", i)\n",
        "  else:\n",
        "    print(i, \"follows the rule\")\n"
      ],
      "metadata": {
        "colab": {
          "base_uri": "https://localhost:8080/"
        },
        "id": "upsrQAFQ7v9L",
        "outputId": "bdcb652b-1733-411c-ee62-cfa03d577b56"
      },
      "execution_count": 54,
      "outputs": [
        {
          "output_type": "stream",
          "name": "stdout",
          "text": [
            "('process0', 'resource0') follows the rule\n",
            "('process03', 'resource0') follows the rule\n",
            "('process04', 'resource0') follows the rule\n",
            "('process0', 'resource1') follows the rule\n",
            "('process01', 'resource1') follows the rule\n",
            "('process04', 'resource1') follows the rule\n",
            "('process0', 'resource2') follows the rule\n",
            "('process02', 'resource2') follows the rule\n",
            "('process03', 'resource2') follows the rule\n"
          ]
        }
      ]
    }
  ]
}