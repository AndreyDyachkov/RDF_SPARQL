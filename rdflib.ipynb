{
  "nbformat": 4,
  "nbformat_minor": 0,
  "metadata": {
    "colab": {
      "provenance": [],
      "toc_visible": true,
      "mount_file_id": "1PeHhj3RCsp1EBMv0_pmS85dk0XF2UZPX",
      "authorship_tag": "ABX9TyMEF/CAY9MnwX7+SM5rqRzl",
      "include_colab_link": true
    },
    "kernelspec": {
      "name": "python3",
      "display_name": "Python 3"
    },
    "language_info": {
      "name": "python"
    }
  },
  "cells": [
    {
      "cell_type": "markdown",
      "metadata": {
        "id": "view-in-github",
        "colab_type": "text"
      },
      "source": [
        "<a href=\"https://colab.research.google.com/github/AndreyDyachkov/RDF_SPARQL/blob/main/rdflib.ipynb\" target=\"_parent\"><img src=\"https://colab.research.google.com/assets/colab-badge.svg\" alt=\"Open In Colab\"/></a>"
      ]
    },
    {
      "cell_type": "markdown",
      "source": [
        "# RDF & SPARQL samples"
      ],
      "metadata": {
        "id": "qe2aa8TKZl-W"
      }
    },
    {
      "cell_type": "markdown",
      "source": [
        "Getting started:\n",
        "1. https://youtu.be/FvGndkpa4K0?si=WL3xyqJWpnK-tbHr\n",
        "2. https://rdflib.readthedocs.io/en/stable/gettingstarted.html"
      ],
      "metadata": {
        "id": "q_py6w1pZm3d"
      }
    },
    {
      "cell_type": "markdown",
      "source": [
        "### Install rdflib"
      ],
      "metadata": {
        "id": "P2EE1bYwaAzX"
      }
    },
    {
      "cell_type": "code",
      "source": [
        "!pip install rdflib"
      ],
      "metadata": {
        "colab": {
          "base_uri": "https://localhost:8080/"
        },
        "id": "wFNCeF3hLWd6",
        "outputId": "d6c21f29-c910-4e8f-8077-803146618412"
      },
      "execution_count": 2,
      "outputs": [
        {
          "output_type": "stream",
          "name": "stdout",
          "text": [
            "Collecting rdflib\n",
            "  Downloading rdflib-7.0.0-py3-none-any.whl (531 kB)\n",
            "\u001b[2K     \u001b[90m━━━━━━━━━━━━━━━━━━━━━━━━━━━━━━━━━━━━━━━━\u001b[0m \u001b[32m531.9/531.9 kB\u001b[0m \u001b[31m5.7 MB/s\u001b[0m eta \u001b[36m0:00:00\u001b[0m\n",
            "\u001b[?25hCollecting isodate<0.7.0,>=0.6.0 (from rdflib)\n",
            "  Downloading isodate-0.6.1-py2.py3-none-any.whl (41 kB)\n",
            "\u001b[2K     \u001b[90m━━━━━━━━━━━━━━━━━━━━━━━━━━━━━━━━━━━━━━━━\u001b[0m \u001b[32m41.7/41.7 kB\u001b[0m \u001b[31m5.8 MB/s\u001b[0m eta \u001b[36m0:00:00\u001b[0m\n",
            "\u001b[?25hRequirement already satisfied: pyparsing<4,>=2.1.0 in /usr/local/lib/python3.10/dist-packages (from rdflib) (3.1.1)\n",
            "Requirement already satisfied: six in /usr/local/lib/python3.10/dist-packages (from isodate<0.7.0,>=0.6.0->rdflib) (1.16.0)\n",
            "Installing collected packages: isodate, rdflib\n",
            "Successfully installed isodate-0.6.1 rdflib-7.0.0\n"
          ]
        }
      ]
    },
    {
      "cell_type": "markdown",
      "source": [
        "### Import libraries"
      ],
      "metadata": {
        "id": "Q7aWYmnVaFs9"
      }
    },
    {
      "cell_type": "code",
      "source": [
        "from rdflib import Graph\n",
        "#import plotly.graph_objects as go\n",
        "#from rdflib import URIRef, Graph, Namespace\n",
        "#from rdflib.plugins.parsers.notation3 import N3Parser\n",
        "#import os"
      ],
      "metadata": {
        "id": "ucXtRYiGLjp_"
      },
      "execution_count": 3,
      "outputs": []
    },
    {
      "cell_type": "markdown",
      "source": [
        "### Sample from the Internet"
      ],
      "metadata": {
        "id": "7E_BbIn2aQY9"
      }
    },
    {
      "cell_type": "code",
      "source": [
        "# Create a Graph\n",
        "g = Graph()"
      ],
      "metadata": {
        "id": "xc0OxAiqT9F-"
      },
      "execution_count": 4,
      "outputs": []
    },
    {
      "cell_type": "code",
      "source": [
        "# Parse in an RDF file hosted on the Internet\n",
        "g.parse(\"http://www.w3.org/People/Berners-Lee/card\")"
      ],
      "metadata": {
        "colab": {
          "base_uri": "https://localhost:8080/"
        },
        "id": "ytE2NLvfanC-",
        "outputId": "854f9599-1e7a-4d40-ef43-12b6ca755757"
      },
      "execution_count": 5,
      "outputs": [
        {
          "output_type": "execute_result",
          "data": {
            "text/plain": [
              "<Graph identifier=N86d7693d21b54a16b7ceca956ab2ef09 (<class 'rdflib.graph.Graph'>)>"
            ]
          },
          "metadata": {},
          "execution_count": 5
        }
      ]
    },
    {
      "cell_type": "code",
      "source": [
        "# Print the number of \"triples (subject, predicate, object)\" in the Graph\n",
        "print(f\"Graph g has {len(g)} statements.\")"
      ],
      "metadata": {
        "colab": {
          "base_uri": "https://localhost:8080/"
        },
        "id": "yYacFXLfanGN",
        "outputId": "8a6f8428-ceac-472e-b3be-1311e33d394d"
      },
      "execution_count": 6,
      "outputs": [
        {
          "output_type": "stream",
          "name": "stdout",
          "text": [
            "Graph g has 86 statements.\n"
          ]
        }
      ]
    },
    {
      "cell_type": "code",
      "source": [
        "# Print out the entire Graph in the RDF Turtle format\n",
        "print(g.serialize(format=\"turtle\"))"
      ],
      "metadata": {
        "colab": {
          "base_uri": "https://localhost:8080/"
        },
        "id": "YtPCDh5SanI9",
        "outputId": "d5a07cd4-f54a-42b1-bb63-006e64f7a8b8"
      },
      "execution_count": 7,
      "outputs": [
        {
          "output_type": "stream",
          "name": "stdout",
          "text": [
            "@prefix : <http://xmlns.com/foaf/0.1/> .\n",
            "@prefix Be: <https://www.w3.org/People/Berners-Lee/> .\n",
            "@prefix Pub: <https://timbl.com/timbl/Public/> .\n",
            "@prefix blog: <http://dig.csail.mit.edu/breadcrumbs/blog/> .\n",
            "@prefix card: <https://www.w3.org/People/Berners-Lee/card#> .\n",
            "@prefix cc: <http://creativecommons.org/ns#> .\n",
            "@prefix cert: <http://www.w3.org/ns/auth/cert#> .\n",
            "@prefix con: <http://www.w3.org/2000/10/swap/pim/contact#> .\n",
            "@prefix dc: <http://purl.org/dc/elements/1.1/> .\n",
            "@prefix dct: <http://purl.org/dc/terms/> .\n",
            "@prefix doap: <http://usefulinc.com/ns/doap#> .\n",
            "@prefix geo1: <http://www.w3.org/2003/01/geo/wgs84_pos#> .\n",
            "@prefix ldp: <http://www.w3.org/ns/ldp#> .\n",
            "@prefix s: <http://www.w3.org/2000/01/rdf-schema#> .\n",
            "@prefix schema1: <http://schema.org/> .\n",
            "@prefix sioc: <http://rdfs.org/sioc/ns#> .\n",
            "@prefix solid: <http://www.w3.org/ns/solid/terms#> .\n",
            "@prefix space: <http://www.w3.org/ns/pim/space#> .\n",
            "@prefix vcard: <http://www.w3.org/2006/vcard/ns#> .\n",
            "@prefix w3c: <http://www.w3.org/data#> .\n",
            "@prefix xsd: <http://www.w3.org/2001/XMLSchema#> .\n",
            "\n",
            "<http://dig.csail.mit.edu/2005/ajar/ajaw/data#Tabulator> doap:developer card:i .\n",
            "\n",
            "<http://dig.csail.mit.edu/2007/01/camp/data#course> :maker card:i .\n",
            "\n",
            "<http://dig.csail.mit.edu/data#DIG> :member card:i .\n",
            "\n",
            "<http://wiki.ontoworld.org/index.php/_IRW2006> dc:title \"Identity, Reference and the Web workshop 2006\" ;\n",
            "    con:participant card:i .\n",
            "\n",
            "<http://www.ecs.soton.ac.uk/~dt2/dlstuff/www2006_data#panel-panelk01> s:label \"The Next Wave of the Web (Plenary Panel)\" ;\n",
            "    con:participant card:i .\n",
            "\n",
            "<http://www.w3.org/2000/10/swap/data#Cwm> doap:developer card:i .\n",
            "\n",
            "<http://www.w3.org/2011/Talks/0331-hyderabad-tbl/data#talk> dct:title \"Designing the Web for an Open Society\" ;\n",
            "    :maker card:i .\n",
            "\n",
            "w3c:W3C :member card:i .\n",
            "\n",
            "<https://www.w3.org/DesignIssues/Overview.html> dc:title \"Design Issues for the World Wide Web\" ;\n",
            "    :maker card:i .\n",
            "\n",
            "Be:card a :PersonalProfileDocument ;\n",
            "    cc:license <http://creativecommons.org/licenses/by-nc/3.0/> ;\n",
            "    dc:title \"Tim Berners-Lee's FOAF file\" ;\n",
            "    :maker card:i ;\n",
            "    :primaryTopic card:i .\n",
            "\n",
            "blog:4 dc:title \"timbl's blog on DIG\" ;\n",
            "    s:seeAlso <http://dig.csail.mit.edu/breadcrumbs/blog/feed/4> ;\n",
            "    :maker card:i .\n",
            "\n",
            "Pub:friends.ttl a :PersonalProfileDocument ;\n",
            "    cc:license <http://creativecommons.org/licenses/by-nc/3.0/> ;\n",
            "    dc:title \"Tim Berners-Lee's editable profile\" ;\n",
            "    :maker card:i ;\n",
            "    :primaryTopic card:i .\n",
            "\n",
            "card:i a con:Male,\n",
            "        :Person ;\n",
            "    s:label \"Tim Berners-Lee\" ;\n",
            "    sioc:avatar <https://www.w3.org/People/Berners-Lee/images/timbl-image-by-Coz-cropped.jpg> ;\n",
            "    schema1:owns <https://timblbot.inrupt.net/profile/card#me> ;\n",
            "    s:seeAlso Pub:friends.ttl ;\n",
            "    con:assistant card:amy ;\n",
            "    con:homePage Be: ;\n",
            "    con:office [ con:address [ con:city \"Cambridge\" ;\n",
            "                    con:country \"USA\" ;\n",
            "                    con:postalCode \"02139\" ;\n",
            "                    con:street \"32 Vassar Street\" ;\n",
            "                    con:street2 \"MIT CSAIL Building 32\" ] ;\n",
            "            geo1:location [ geo1:lat \"42.361860\" ;\n",
            "                    geo1:long \"-71.091840\" ] ] ;\n",
            "    con:preferredURI \"https://www.w3.org/People/Berners-Lee/card#i\" ;\n",
            "    con:publicHomePage Be: ;\n",
            "    vcard:fn \"Tim Berners-Lee\" ;\n",
            "    vcard:hasAddress [ a vcard:Work ;\n",
            "            vcard:locality \"Cambridge\" ;\n",
            "            vcard:postal-code \"02139\" ;\n",
            "            vcard:region \"MA\" ;\n",
            "            vcard:street-address \"32 Vassar Street\" ] ;\n",
            "    cert:key [ a cert:RSAPublicKey ;\n",
            "            cert:exponent 65537 ;\n",
            "            cert:modulus \"ebe99c737bd3670239600547e5e2eb1d1497da39947b6576c3c44ffeca32cf0f2f7cbee3c47001278a90fc7fc5bcf292f741eb1fcd6bbe7f90650afb519cf13e81b2bffc6e02063ee5a55781d420b1dfaf61c15758480e66d47fb0dcb5fa7b9f7f1052e5ccbd01beee9553c3b6b51f4daf1fce991294cd09a3d1d636bc6c7656e4455d0aff06daec740ed0084aa6866fcae1359de61cc12dbe37c8fa42e977c6e727a8258bb9a3f265b27e3766fe0697f6aa0bcc81c3f026e387bd7bbc81580dc1853af2daa099186a9f59da526474ef6ec0a3d84cf400be3261b6b649dea1f78184862d34d685d2d587f09acc14cd8e578fdd2283387821296f0af39b8d8845\"^^xsd:hexBinary ] ;\n",
            "    ldp:inbox Pub:Inbox ;\n",
            "    space:preferencesFile <https://timbl.com/timbl/Data/preferences.n3> ;\n",
            "    space:storage Pub:,\n",
            "        <https://timbl.inrupt.net/>,\n",
            "        <https://timbl.solid.community/> ;\n",
            "    solid:editableProfile Pub:friends.ttl ;\n",
            "    solid:oidcIssuer <https://timbl.com> ;\n",
            "    solid:profileBackgroundColor \"#ffffff\" ;\n",
            "    solid:profileHighlightColor \"#00467E\" ;\n",
            "    solid:publicTypeIndex Pub:PublicTypeIndex.ttl ;\n",
            "    :account <http://en.wikipedia.org/wiki/User:Timbl>,\n",
            "        <http://twitter.com/timberners_lee>,\n",
            "        <http://www.reddit.com/user/timbl/> ;\n",
            "    :based_near [ geo1:lat \"42.361860\" ;\n",
            "            geo1:long \"-71.091840\" ] ;\n",
            "    :family_name \"Berners-Lee\" ;\n",
            "    :givenname \"Timothy\" ;\n",
            "    :homepage Be: ;\n",
            "    :img <https://www.w3.org/Press/Stock/Berners-Lee/2001-europaeum-eighth.jpg> ;\n",
            "    :mbox <mailto:timbl@w3.org> ;\n",
            "    :mbox_sha1sum \"965c47c5a70db7407210cef6e4e6f5374a525c5c\" ;\n",
            "    :name \"Timothy Berners-Lee\" ;\n",
            "    :nick \"TimBL\",\n",
            "        \"timbl\" ;\n",
            "    :openid Be: ;\n",
            "    :title \"Sir\" ;\n",
            "    :weblog blog:4 ;\n",
            "    :workplaceHomepage <https://www.w3.org/> .\n",
            "\n",
            "\n"
          ]
        }
      ]
    },
    {
      "cell_type": "code",
      "source": [
        "# Query the data in g using SPARQL\n",
        "# This query returns the 'name' of all ``foaf:Person`` instances\n",
        "q = \"\"\"\n",
        "    PREFIX foaf: <http://xmlns.com/foaf/0.1/>\n",
        "\n",
        "    SELECT ?name\n",
        "    WHERE {\n",
        "        ?p rdf:type foaf:Person .\n",
        "\n",
        "        ?p foaf:name ?name .\n",
        "    }\n",
        "\"\"\""
      ],
      "metadata": {
        "id": "f5TBs5wcgj1e"
      },
      "execution_count": 8,
      "outputs": []
    },
    {
      "cell_type": "code",
      "source": [
        "# Apply the query to the graph and iterate through results\n",
        "for r in g.query(q):\n",
        "    print(r[\"name\"])"
      ],
      "metadata": {
        "colab": {
          "base_uri": "https://localhost:8080/"
        },
        "id": "q1QH8ShthgzA",
        "outputId": "568d548f-9530-4c40-cd58-dd6904b2316c"
      },
      "execution_count": 9,
      "outputs": [
        {
          "output_type": "stream",
          "name": "stdout",
          "text": [
            "Timothy Berners-Lee\n"
          ]
        }
      ]
    },
    {
      "cell_type": "markdown",
      "source": [
        "### Sample from a local file"
      ],
      "metadata": {
        "id": "T-nCXywocXPv"
      }
    },
    {
      "cell_type": "code",
      "source": [
        "filepath = '/content/drive/MyDrive/Colab Notebooks/SPB_PU_Amir/data/sparql_test.n3'"
      ],
      "metadata": {
        "id": "ZdIDgsx3anMN"
      },
      "execution_count": 10,
      "outputs": []
    },
    {
      "cell_type": "markdown",
      "source": [
        "A fragment of an address book:"
      ],
      "metadata": {
        "id": "KA-MeG33dul6"
      }
    },
    {
      "cell_type": "code",
      "source": [
        "f = open(filepath, \"r\")\n",
        "print(f.read())"
      ],
      "metadata": {
        "id": "4bALds6-LtZc",
        "colab": {
          "base_uri": "https://localhost:8080/"
        },
        "outputId": "c9b161ea-83a6-43d7-b132-3d1fdc5f9538"
      },
      "execution_count": 11,
      "outputs": [
        {
          "output_type": "stream",
          "name": "stdout",
          "text": [
            "@prefix ab: <http://learningsparql.com/ns/addressbook#> .\n",
            "\n",
            "ab:richard ab:homeTel \"(229) 276-5135\" . \n",
            "ab:richard ab:email   \"richard49@hotmail.com\" .\n",
            "ab:richard ab:occupation   \"CEO\" .\n",
            "\n",
            "ab:cindy ab:homeTel \"(245) 646-5488\" . \n",
            "ab:cindy ab:email   \"cindym@gmail.com\" .\n",
            "ab:cindy ab:occupation   \"CEO\" . \n",
            "\n",
            "ab:craig ab:homeTel \"(194) 966-1505\" . \n",
            "ab:craig ab:email   \"craigellis@yahoo.com\" . \n",
            "ab:craig ab:email   \"c.ellis@usairwaysgroup.com\" .\n"
          ]
        }
      ]
    },
    {
      "cell_type": "code",
      "source": [
        "# Create a Graph\n",
        "g = Graph()"
      ],
      "metadata": {
        "id": "XjipBAK-ehkI"
      },
      "execution_count": 12,
      "outputs": []
    },
    {
      "cell_type": "code",
      "source": [
        "# Parse in an RDF file hosted on the Internet\n",
        "g.parse(\"/content/drive/MyDrive/Colab Notebooks/SPB_PU_Amir/data/sparql_test.n3\")"
      ],
      "metadata": {
        "colab": {
          "base_uri": "https://localhost:8080/"
        },
        "id": "FODIXzmhd7Xm",
        "outputId": "686dc6e1-03ee-4d4d-b401-2d35866c8078"
      },
      "execution_count": 13,
      "outputs": [
        {
          "output_type": "execute_result",
          "data": {
            "text/plain": [
              "<Graph identifier=N1f5b8b22607547429e242276d2829d3e (<class 'rdflib.graph.Graph'>)>"
            ]
          },
          "metadata": {},
          "execution_count": 13
        }
      ]
    },
    {
      "cell_type": "code",
      "source": [
        "# Print the number of \"triples (subject, predicate, object)\" in the Graph\n",
        "print(f\"Graph g has {len(g)} statements.\")"
      ],
      "metadata": {
        "colab": {
          "base_uri": "https://localhost:8080/"
        },
        "id": "PQdh73FYd7dW",
        "outputId": "7dbb2023-fa06-4e6a-8ac0-d8d3833a61f1"
      },
      "execution_count": 14,
      "outputs": [
        {
          "output_type": "stream",
          "name": "stdout",
          "text": [
            "Graph g has 9 statements.\n"
          ]
        }
      ]
    },
    {
      "cell_type": "code",
      "source": [
        "# Print out the entire Graph in the RDF Turtle format\n",
        "print(g.serialize(format=\"turtle\"))"
      ],
      "metadata": {
        "colab": {
          "base_uri": "https://localhost:8080/"
        },
        "id": "rm0FvmZbd7gO",
        "outputId": "b9b6d45e-5d5b-4894-87af-a9e371df83d8"
      },
      "execution_count": 15,
      "outputs": [
        {
          "output_type": "stream",
          "name": "stdout",
          "text": [
            "@prefix ab: <http://learningsparql.com/ns/addressbook#> .\n",
            "\n",
            "ab:cindy ab:email \"cindym@gmail.com\" ;\n",
            "    ab:homeTel \"(245) 646-5488\" ;\n",
            "    ab:occupation \"CEO\" .\n",
            "\n",
            "ab:craig ab:email \"c.ellis@usairwaysgroup.com\",\n",
            "        \"craigellis@yahoo.com\" ;\n",
            "    ab:homeTel \"(194) 966-1505\" .\n",
            "\n",
            "ab:richard ab:email \"richard49@hotmail.com\" ;\n",
            "    ab:homeTel \"(229) 276-5135\" ;\n",
            "    ab:occupation \"CEO\" .\n",
            "\n",
            "\n"
          ]
        }
      ]
    },
    {
      "cell_type": "code",
      "source": [
        "# Query the data in g using SPARQL\n",
        "# This query returns the 'email' of all \"ab:occupation \"CEO\" instances\n",
        "q1 =(\"\"\"\n",
        "    PREFIX ab: <http://learningsparql.com/ns/addressbook#>\n",
        "    SELECT ?person ?email\n",
        "       WHERE {\n",
        "          ?person ab:occupation \"CEO\" .\n",
        "          ?person ab:email ?email\n",
        "              }\n",
        "    \"\"\")"
      ],
      "metadata": {
        "id": "DnaiORxMd7jG"
      },
      "execution_count": 16,
      "outputs": []
    },
    {
      "cell_type": "code",
      "source": [
        "# Apply the query to the graph and iterate through results\n",
        "for r in g.query(q1):\n",
        "    #print(r)\n",
        "    print(r['email'])"
      ],
      "metadata": {
        "colab": {
          "base_uri": "https://localhost:8080/"
        },
        "id": "rMGx-qSa7HkC",
        "outputId": "85daf76f-9795-480f-d693-89a7182e7a5c"
      },
      "execution_count": 20,
      "outputs": [
        {
          "output_type": "stream",
          "name": "stdout",
          "text": [
            "richard49@hotmail.com\n",
            "cindym@gmail.com\n"
          ]
        }
      ]
    },
    {
      "cell_type": "code",
      "source": [
        "for row in g.query(q1):\n",
        "    a = str(row.asdict()['email'].toPython())\n",
        "    print(a)\n"
      ],
      "metadata": {
        "colab": {
          "base_uri": "https://localhost:8080/"
        },
        "id": "YdFyrZ8x7Eea",
        "outputId": "7dbbb84e-30f3-471e-8d5b-76dbf8dfd751"
      },
      "execution_count": 18,
      "outputs": [
        {
          "output_type": "stream",
          "name": "stdout",
          "text": [
            "richard49@hotmail.com\n",
            "cindym@gmail.com\n"
          ]
        }
      ]
    },
    {
      "cell_type": "code",
      "source": [],
      "metadata": {
        "id": "4oGtdovH7Ehy"
      },
      "execution_count": 18,
      "outputs": []
    }
  ]
}